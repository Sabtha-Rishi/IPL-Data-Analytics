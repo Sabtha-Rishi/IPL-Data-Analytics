{
 "cells": [
  {
   "cell_type": "code",
   "execution_count": 179,
   "id": "79f15979-fc8e-4b0f-a29c-86fa4e0a3012",
   "metadata": {},
   "outputs": [],
   "source": [
    "import pandas as pd\n",
    "import matplotlib.pyplot as plt\n",
    "import seaborn as sns\n",
    "\n",
    "sns.set_style(\"dark\")"
   ]
  },
  {
   "cell_type": "code",
   "execution_count": 91,
   "id": "cd281768-f2fe-4913-9975-3a517533414c",
   "metadata": {},
   "outputs": [],
   "source": [
    "deliveries = pd.read_csv(\"deliveries_updated_mens_ipl.csv\")\n",
    "matches = pd.read_csv(\"matches_updated_mens_ipl.csv\")\n",
    "ipl = pd.merge(deliveries,matches)\n",
    "\n",
    "\n",
    "#Cleaning up the Season\n",
    "ipl.season = ipl.season.apply(lambda x: \"2010\" if x==\"2009/10\" else x)\n",
    "ipl.season = ipl.season.apply(lambda x: \"2020\" if x==\"2020/21\" else x)"
   ]
  },
  {
   "cell_type": "code",
   "execution_count": 92,
   "id": "f2511343-6c13-44c3-9546-a6cb69dee3fd",
   "metadata": {},
   "outputs": [
    {
     "name": "stdout",
     "output_type": "stream",
     "text": [
      "<class 'pandas.core.frame.DataFrame'>\n",
      "RangeIndex: 243817 entries, 0 to 243816\n",
      "Data columns (total 46 columns):\n",
      " #   Column            Non-Null Count   Dtype  \n",
      "---  ------            --------------   -----  \n",
      " 0   matchId           243817 non-null  int64  \n",
      " 1   inning            243817 non-null  int64  \n",
      " 2   over_ball         243817 non-null  float64\n",
      " 3   over              243817 non-null  int64  \n",
      " 4   ball              243817 non-null  int64  \n",
      " 5   batting_team      243817 non-null  object \n",
      " 6   bowling_team      243817 non-null  object \n",
      " 7   batsman           243817 non-null  object \n",
      " 8   non_striker       243817 non-null  object \n",
      " 9   bowler            243817 non-null  object \n",
      " 10  batsman_runs      243817 non-null  int64  \n",
      " 11  extras            243817 non-null  int64  \n",
      " 12  isWide            7652 non-null    float64\n",
      " 13  isNoBall          1018 non-null    float64\n",
      " 14  Byes              628 non-null     float64\n",
      " 15  LegByes           3778 non-null    float64\n",
      " 16  Penalty           2 non-null       float64\n",
      " 17  dismissal_kind    12067 non-null   object \n",
      " 18  player_dismissed  12067 non-null   object \n",
      " 19  date              243817 non-null  object \n",
      " 20  venue             243817 non-null  object \n",
      " 21  umpire2           243817 non-null  object \n",
      " 22  winner_runs       112811 non-null  float64\n",
      " 23  method            2693 non-null    object \n",
      " 24  reserve_umpire    238064 non-null  object \n",
      " 25  winner            239693 non-null  object \n",
      " 26  city              231420 non-null  object \n",
      " 27  balls_per_over    243817 non-null  int64  \n",
      " 28  outcome           4124 non-null    object \n",
      " 29  match_number      228879 non-null  float64\n",
      " 30  match_referee     243817 non-null  object \n",
      " 31  team1             243817 non-null  object \n",
      " 32  eliminator        3634 non-null    object \n",
      " 33  date1             402 non-null     object \n",
      " 34  gender            243817 non-null  object \n",
      " 35  team2             243817 non-null  object \n",
      " 36  winner_wickets    126882 non-null  float64\n",
      " 37  toss_winner       243817 non-null  object \n",
      " 38  toss_decision     243817 non-null  object \n",
      " 39  date2             402 non-null     object \n",
      " 40  tv_umpire         243128 non-null  object \n",
      " 41  season            243817 non-null  object \n",
      " 42  umpire1           243817 non-null  object \n",
      " 43  event             243817 non-null  object \n",
      " 44  neutralvenue      18369 non-null   object \n",
      " 45  player_of_match   243327 non-null  object \n",
      "dtypes: float64(9), int64(7), object(30)\n",
      "memory usage: 85.6+ MB\n"
     ]
    }
   ],
   "source": [
    "ipl.info()"
   ]
  },
  {
   "cell_type": "code",
   "execution_count": null,
   "id": "2feb1263-5a6a-4269-a3cf-9ebea1e3bbee",
   "metadata": {},
   "outputs": [],
   "source": []
  },
  {
   "cell_type": "markdown",
   "id": "be5fefa4-cf5c-4841-8bd7-4b7e4302b447",
   "metadata": {},
   "source": [
    "# 1. Best Finisher of All Time"
   ]
  },
  {
   "cell_type": "code",
   "execution_count": 93,
   "id": "d5cc0e2d-65e9-44a0-9fc3-50b1916fd0ea",
   "metadata": {},
   "outputs": [],
   "source": [
    "# lets assume the death over as last 4 overs (16,17,18 and 19)"
   ]
  },
  {
   "cell_type": "code",
   "execution_count": 94,
   "id": "ef371936-ef65-4ed3-838c-ffafac221c13",
   "metadata": {},
   "outputs": [],
   "source": [
    "# Filtering deliveries only on death overs\n",
    "deathOverMin = 16\n",
    "deathOverDeliveries = ipl[ipl[\"over\"]>=deathOverMin]"
   ]
  },
  {
   "cell_type": "code",
   "execution_count": 95,
   "id": "b5a41171-4f0a-4f3e-aad8-b10f3114179e",
   "metadata": {},
   "outputs": [],
   "source": [
    "# Removing Wide and No Ball deliveries from the death over deliveries as they might mess up our answer\n",
    "deathOverDeliveries = deathOverDeliveries[deathOverDeliveries[\"isWide\"].isnull()]\n",
    "deathOverDeliveries = deathOverDeliveries[deathOverDeliveries[\"isNoBall\"].isnull()]"
   ]
  },
  {
   "cell_type": "code",
   "execution_count": 190,
   "id": "2f88dd19-a272-43d2-b159-d67758b5cb58",
   "metadata": {},
   "outputs": [
    {
     "data": {
      "text/html": [
       "<div>\n",
       "<style scoped>\n",
       "    .dataframe tbody tr th:only-of-type {\n",
       "        vertical-align: middle;\n",
       "    }\n",
       "\n",
       "    .dataframe tbody tr th {\n",
       "        vertical-align: top;\n",
       "    }\n",
       "\n",
       "    .dataframe thead th {\n",
       "        text-align: right;\n",
       "    }\n",
       "</style>\n",
       "<table border=\"1\" class=\"dataframe\">\n",
       "  <thead>\n",
       "    <tr style=\"text-align: right;\">\n",
       "      <th></th>\n",
       "      <th>batsman_runs</th>\n",
       "    </tr>\n",
       "    <tr>\n",
       "      <th>batsman</th>\n",
       "      <th></th>\n",
       "    </tr>\n",
       "  </thead>\n",
       "  <tbody>\n",
       "    <tr>\n",
       "      <th>MS Dhoni</th>\n",
       "      <td>2606</td>\n",
       "    </tr>\n",
       "    <tr>\n",
       "      <th>KA Pollard</th>\n",
       "      <td>1682</td>\n",
       "    </tr>\n",
       "    <tr>\n",
       "      <th>AB de Villiers</th>\n",
       "      <td>1398</td>\n",
       "    </tr>\n",
       "    <tr>\n",
       "      <th>KD Karthik</th>\n",
       "      <td>1355</td>\n",
       "    </tr>\n",
       "    <tr>\n",
       "      <th>RA Jadeja</th>\n",
       "      <td>1291</td>\n",
       "    </tr>\n",
       "    <tr>\n",
       "      <th>RG Sharma</th>\n",
       "      <td>1134</td>\n",
       "    </tr>\n",
       "    <tr>\n",
       "      <th>HH Pandya</th>\n",
       "      <td>1074</td>\n",
       "    </tr>\n",
       "    <tr>\n",
       "      <th>V Kohli</th>\n",
       "      <td>1040</td>\n",
       "    </tr>\n",
       "    <tr>\n",
       "      <th>AD Russell</th>\n",
       "      <td>962</td>\n",
       "    </tr>\n",
       "    <tr>\n",
       "      <th>DA Miller</th>\n",
       "      <td>901</td>\n",
       "    </tr>\n",
       "  </tbody>\n",
       "</table>\n",
       "</div>"
      ],
      "text/plain": [
       "                batsman_runs\n",
       "batsman                     \n",
       "MS Dhoni                2606\n",
       "KA Pollard              1682\n",
       "AB de Villiers          1398\n",
       "KD Karthik              1355\n",
       "RA Jadeja               1291\n",
       "RG Sharma               1134\n",
       "HH Pandya               1074\n",
       "V Kohli                 1040\n",
       "AD Russell               962\n",
       "DA Miller                901"
      ]
     },
     "execution_count": 190,
     "metadata": {},
     "output_type": "execute_result"
    }
   ],
   "source": [
    "# lets find the top 10 Finishers of All Time\n",
    "\n",
    "top10Finishers = pd.DataFrame(deathOverDeliveries.groupby(\"batsman\")[\"batsman_runs\"].sum().sort_values(ascending=False)[:10])\n",
    "top10Finishers"
   ]
  },
  {
   "cell_type": "code",
   "execution_count": 192,
   "id": "23759e0a-5baa-4a11-937e-beff9b3e3aad",
   "metadata": {},
   "outputs": [
    {
     "ename": "ValueError",
     "evalue": "Could not interpret input 'index'",
     "output_type": "error",
     "traceback": [
      "\u001b[1;31m---------------------------------------------------------------------------\u001b[0m",
      "\u001b[1;31mValueError\u001b[0m                                Traceback (most recent call last)",
      "Cell \u001b[1;32mIn[192], line 3\u001b[0m\n\u001b[0;32m      1\u001b[0m \u001b[38;5;66;03m# Plotting the bar plot\u001b[39;00m\n\u001b[0;32m      2\u001b[0m plt\u001b[38;5;241m.\u001b[39mfigure(figsize\u001b[38;5;241m=\u001b[39m(\u001b[38;5;241m10\u001b[39m, \u001b[38;5;241m6\u001b[39m))\n\u001b[1;32m----> 3\u001b[0m sns\u001b[38;5;241m.\u001b[39mbarplot(x\u001b[38;5;241m=\u001b[39m\u001b[38;5;124m'\u001b[39m\u001b[38;5;124mindex\u001b[39m\u001b[38;5;124m'\u001b[39m, y\u001b[38;5;241m=\u001b[39m\u001b[38;5;124m'\u001b[39m\u001b[38;5;124mbatsman_runs\u001b[39m\u001b[38;5;124m'\u001b[39m, data\u001b[38;5;241m=\u001b[39mtop10Finishers, palette\u001b[38;5;241m=\u001b[39m\u001b[38;5;124m'\u001b[39m\u001b[38;5;124mmako\u001b[39m\u001b[38;5;124m'\u001b[39m)\n\u001b[0;32m      5\u001b[0m plt\u001b[38;5;241m.\u001b[39mtitle(\u001b[38;5;124m'\u001b[39m\u001b[38;5;124mTop 10 Finishers and Their Runs\u001b[39m\u001b[38;5;124m'\u001b[39m)\n\u001b[0;32m      6\u001b[0m plt\u001b[38;5;241m.\u001b[39mxlabel(\u001b[38;5;124m'\u001b[39m\u001b[38;5;124mBatsman\u001b[39m\u001b[38;5;124m'\u001b[39m)\n",
      "File \u001b[1;32m~\\anaconda3\\Lib\\site-packages\\seaborn\\categorical.py:2755\u001b[0m, in \u001b[0;36mbarplot\u001b[1;34m(data, x, y, hue, order, hue_order, estimator, errorbar, n_boot, units, seed, orient, color, palette, saturation, width, errcolor, errwidth, capsize, dodge, ci, ax, **kwargs)\u001b[0m\n\u001b[0;32m   2752\u001b[0m \u001b[38;5;28;01mif\u001b[39;00m estimator \u001b[38;5;129;01mis\u001b[39;00m \u001b[38;5;28mlen\u001b[39m:\n\u001b[0;32m   2753\u001b[0m     estimator \u001b[38;5;241m=\u001b[39m \u001b[38;5;124m\"\u001b[39m\u001b[38;5;124msize\u001b[39m\u001b[38;5;124m\"\u001b[39m\n\u001b[1;32m-> 2755\u001b[0m plotter \u001b[38;5;241m=\u001b[39m _BarPlotter(x, y, hue, data, order, hue_order,\n\u001b[0;32m   2756\u001b[0m                       estimator, errorbar, n_boot, units, seed,\n\u001b[0;32m   2757\u001b[0m                       orient, color, palette, saturation,\n\u001b[0;32m   2758\u001b[0m                       width, errcolor, errwidth, capsize, dodge)\n\u001b[0;32m   2760\u001b[0m \u001b[38;5;28;01mif\u001b[39;00m ax \u001b[38;5;129;01mis\u001b[39;00m \u001b[38;5;28;01mNone\u001b[39;00m:\n\u001b[0;32m   2761\u001b[0m     ax \u001b[38;5;241m=\u001b[39m plt\u001b[38;5;241m.\u001b[39mgca()\n",
      "File \u001b[1;32m~\\anaconda3\\Lib\\site-packages\\seaborn\\categorical.py:1530\u001b[0m, in \u001b[0;36m_BarPlotter.__init__\u001b[1;34m(self, x, y, hue, data, order, hue_order, estimator, errorbar, n_boot, units, seed, orient, color, palette, saturation, width, errcolor, errwidth, capsize, dodge)\u001b[0m\n\u001b[0;32m   1525\u001b[0m \u001b[38;5;28;01mdef\u001b[39;00m \u001b[38;5;21m__init__\u001b[39m(\u001b[38;5;28mself\u001b[39m, x, y, hue, data, order, hue_order,\n\u001b[0;32m   1526\u001b[0m              estimator, errorbar, n_boot, units, seed,\n\u001b[0;32m   1527\u001b[0m              orient, color, palette, saturation, width,\n\u001b[0;32m   1528\u001b[0m              errcolor, errwidth, capsize, dodge):\n\u001b[0;32m   1529\u001b[0m \u001b[38;5;250m    \u001b[39m\u001b[38;5;124;03m\"\"\"Initialize the plotter.\"\"\"\u001b[39;00m\n\u001b[1;32m-> 1530\u001b[0m     \u001b[38;5;28mself\u001b[39m\u001b[38;5;241m.\u001b[39mestablish_variables(x, y, hue, data, orient,\n\u001b[0;32m   1531\u001b[0m                              order, hue_order, units)\n\u001b[0;32m   1532\u001b[0m     \u001b[38;5;28mself\u001b[39m\u001b[38;5;241m.\u001b[39mestablish_colors(color, palette, saturation)\n\u001b[0;32m   1533\u001b[0m     \u001b[38;5;28mself\u001b[39m\u001b[38;5;241m.\u001b[39mestimate_statistic(estimator, errorbar, n_boot, seed)\n",
      "File \u001b[1;32m~\\anaconda3\\Lib\\site-packages\\seaborn\\categorical.py:541\u001b[0m, in \u001b[0;36m_CategoricalPlotter.establish_variables\u001b[1;34m(self, x, y, hue, data, orient, order, hue_order, units)\u001b[0m\n\u001b[0;32m    539\u001b[0m     \u001b[38;5;28;01mif\u001b[39;00m \u001b[38;5;28misinstance\u001b[39m(var, \u001b[38;5;28mstr\u001b[39m):\n\u001b[0;32m    540\u001b[0m         err \u001b[38;5;241m=\u001b[39m \u001b[38;5;124mf\u001b[39m\u001b[38;5;124m\"\u001b[39m\u001b[38;5;124mCould not interpret input \u001b[39m\u001b[38;5;124m'\u001b[39m\u001b[38;5;132;01m{\u001b[39;00mvar\u001b[38;5;132;01m}\u001b[39;00m\u001b[38;5;124m'\u001b[39m\u001b[38;5;124m\"\u001b[39m\n\u001b[1;32m--> 541\u001b[0m         \u001b[38;5;28;01mraise\u001b[39;00m \u001b[38;5;167;01mValueError\u001b[39;00m(err)\n\u001b[0;32m    543\u001b[0m \u001b[38;5;66;03m# Figure out the plotting orientation\u001b[39;00m\n\u001b[0;32m    544\u001b[0m orient \u001b[38;5;241m=\u001b[39m infer_orient(\n\u001b[0;32m    545\u001b[0m     x, y, orient, require_numeric\u001b[38;5;241m=\u001b[39m\u001b[38;5;28mself\u001b[39m\u001b[38;5;241m.\u001b[39mrequire_numeric\n\u001b[0;32m    546\u001b[0m )\n",
      "\u001b[1;31mValueError\u001b[0m: Could not interpret input 'index'"
     ]
    },
    {
     "data": {
      "text/plain": [
       "<Figure size 1000x600 with 0 Axes>"
      ]
     },
     "metadata": {},
     "output_type": "display_data"
    }
   ],
   "source": [
    "# Plotting the bar plot\n",
    "plt.figure(figsize=(10, 6))\n",
    "sns.barplot(x='index', y='batsman_runs', data=top10Finishers, palette='mako')\n",
    "\n",
    "plt.title('Top 10 Finishers and Their Runs')\n",
    "plt.xlabel('Batsman')\n",
    "plt.ylabel('Total Runs')\n",
    "plt.xticks(rotation=45)\n",
    "plt.show()"
   ]
  },
  {
   "cell_type": "code",
   "execution_count": 152,
   "id": "1dceebad-6ae2-49a5-9ad9-0ffacedde551",
   "metadata": {},
   "outputs": [],
   "source": [
    "# Who has been the best finisher for most number of seasons?\n",
    "\n",
    "seasonsAndBatsmen = deathOverDeliveries.groupby([\"season\",\"batsman\"])[\"batsman_runs\"].sum().reset_index()\n",
    "idx = seasonsAndBatsmen.groupby(\"season\")[\"batsman_runs\"].idxmax()\n",
    "max_runs_per_season = seasonsAndBatsmen.loc[idx].sort_values(by=\"season\").reset_index(drop=True)"
   ]
  },
  {
   "cell_type": "code",
   "execution_count": null,
   "id": "12fedbea-9885-4508-9e12-9e5f2203274c",
   "metadata": {},
   "outputs": [],
   "source": []
  },
  {
   "cell_type": "code",
   "execution_count": 178,
   "id": "260ac9df-d38f-45f6-a8a5-a26106d9d45b",
   "metadata": {},
   "outputs": [
    {
     "data": {
      "image/png": "[encoded data removed]",
      "text/plain": [
       "<Figure size 1000x600 with 1 Axes>"
      ]
     },
     "metadata": {},
     "output_type": "display_data"
    }
   ],
   "source": [
    "\n",
    "\n",
    "# Plotting the count plot\n",
    "plt.figure(figsize=(10, 6))\n",
    "sns.countplot(x='batsman', palette=\"rocket\", data=max_runs_per_season, order=max_runs_per_season['batsman'].value_counts().index)\n",
    "\n",
    "plt.title('Number of Seasons Each Batsman Appeared as the Top Scorer')\n",
    "plt.ylabel('Count of Seasons')\n",
    "plt.xlabel('Batsman')\n",
    "plt.xticks(rotation=45)\n",
    "plt.show()"
   ]
  },
  {
   "cell_type": "code",
   "execution_count": null,
   "id": "53200e66-1fef-4d47-b5ac-8c8045e87f5a",
   "metadata": {},
   "outputs": [],
   "source": []
  },
  {
   "cell_type": "code",
   "execution_count": null,
   "id": "826c8d7b-3849-480d-917b-41d3be4500f0",
   "metadata": {},
   "outputs": [],
   "source": []
  },
  {
   "cell_type": "code",
   "execution_count": null,
   "id": "cc9f73b3-aaa6-49c2-9f44-84d601d4e5d7",
   "metadata": {},
   "outputs": [],
   "source": []
  },
  {
   "cell_type": "code",
   "execution_count": null,
   "id": "bc5bec16-12be-4635-8987-3925abcc3afa",
   "metadata": {},
   "outputs": [],
   "source": []
  }
 ],
 "metadata": {
  "kernelspec": {
   "display_name": "Python 3 (ipykernel)",
   "language": "python",
   "name": "python3"
  },
  "language_info": {
   "codemirror_mode": {
    "name": "ipython",
    "version": 3
   },
   "file_extension": ".py",
   "mimetype": "text/x-python",
   "name": "python",
   "nbconvert_exporter": "python",
   "pygments_lexer": "ipython3",
   "version": "3.11.7"
  }
 },
 "nbformat": 4,
 "nbformat_minor": 5
}
